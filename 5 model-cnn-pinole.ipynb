{
 "cells": [
  {
   "cell_type": "code",
   "execution_count": 1,
   "metadata": {},
   "outputs": [
    {
     "name": "stderr",
     "output_type": "stream",
     "text": [
      "/anaconda3/envs/dsi/lib/python3.6/site-packages/h5py/__init__.py:36: FutureWarning: Conversion of the second argument of issubdtype from `float` to `np.floating` is deprecated. In future, it will be treated as `np.float64 == np.dtype(float).type`.\n",
      "  from ._conv import register_converters as _register_converters\n",
      "Using TensorFlow backend.\n"
     ]
    },
    {
     "name": "stdout",
     "output_type": "stream",
     "text": [
      "Couldn't import dot_parser, loading of dot files will not be possible.\n"
     ]
    }
   ],
   "source": [
    "import numpy as np\n",
    "import pandas as pd\n",
    "import matplotlib.pyplot as plt\n",
    "import seaborn as sns\n",
    "\n",
    "import time\n",
    "\n",
    "from PIL import Image\n",
    "\n",
    "from sklearn.model_selection import train_test_split\n",
    "from sklearn.metrics import accuracy_score, confusion_matrix\n",
    "\n",
    "from keras.models import Sequential\n",
    "from keras.layers import Dense, Dropout, Activation\n",
    "from keras.layers import Conv2D, MaxPooling2D, Flatten\n",
    "from keras.preprocessing.image import ImageDataGenerator\n",
    "\n",
    "%matplotlib inline"
   ]
  },
  {
   "cell_type": "code",
   "execution_count": 2,
   "metadata": {},
   "outputs": [],
   "source": [
    "pinole = pd.read_csv('./dataset/pinole150x100.csv')"
   ]
  },
  {
   "cell_type": "code",
   "execution_count": 6,
   "metadata": {},
   "outputs": [
    {
     "data": {
      "text/plain": [
       "1    0.746269\n",
       "0    0.253731\n",
       "Name: label, dtype: float64"
      ]
     },
     "execution_count": 6,
     "metadata": {},
     "output_type": "execute_result"
    }
   ],
   "source": [
    "pinole['label'].value_counts(normalize=True)"
   ]
  },
  {
   "cell_type": "code",
   "execution_count": 8,
   "metadata": {},
   "outputs": [],
   "source": [
    "minority = pinole[pinole['label'] == 0]"
   ]
  },
  {
   "cell_type": "code",
   "execution_count": 21,
   "metadata": {},
   "outputs": [
    {
     "name": "stdout",
     "output_type": "stream",
     "text": [
      "68\n"
     ]
    }
   ],
   "source": [
    "num = min(pinole['label'].value_counts())\n",
    "print(num)\n",
    "duplicate = minority.sample(n=num*2, replace=True, random_state=42)\n",
    "df_over = pd.concat([pinole, duplicate]) "
   ]
  },
  {
   "cell_type": "code",
   "execution_count": 22,
   "metadata": {},
   "outputs": [
    {
     "data": {
      "text/plain": [
       "0    204\n",
       "1    200\n",
       "Name: label, dtype: int64"
      ]
     },
     "execution_count": 22,
     "metadata": {},
     "output_type": "execute_result"
    }
   ],
   "source": [
    "df_over['label'].value_counts()"
   ]
  },
  {
   "cell_type": "code",
   "execution_count": 23,
   "metadata": {},
   "outputs": [
    {
     "data": {
      "text/plain": [
       "((404, 45000), (404,))"
      ]
     },
     "execution_count": 23,
     "metadata": {},
     "output_type": "execute_result"
    }
   ],
   "source": [
    "X = df_over.iloc[:,14:45014]\n",
    "y = df_over.iloc[:,45014]\n",
    "X.shape, y.shape"
   ]
  },
  {
   "cell_type": "code",
   "execution_count": 24,
   "metadata": {},
   "outputs": [],
   "source": [
    "num_obs = X.shape[0]\n",
    "width = 100\n",
    "height = 150\n",
    "\n",
    "X_reshape = np.reshape(X.values, (num_obs, 100, 150, 3))\n",
    "X_reshape = X_reshape.astype('float32')\n",
    "X_reshape /= 255."
   ]
  },
  {
   "cell_type": "code",
   "execution_count": 25,
   "metadata": {},
   "outputs": [
    {
     "data": {
      "text/plain": [
       "((282, 100, 150, 3), (122, 100, 150, 3), (282,), (122,))"
      ]
     },
     "execution_count": 25,
     "metadata": {},
     "output_type": "execute_result"
    }
   ],
   "source": [
    "X_train, X_test, y_train, y_test = train_test_split(X_reshape, \n",
    "                                                    y, \n",
    "                                                    test_size=0.3, \n",
    "                                                    random_state=42,\n",
    "                                                    stratify = y)\n",
    "X_train.shape, X_test.shape, y_train.shape, y_test.shape"
   ]
  },
  {
   "cell_type": "code",
   "execution_count": 28,
   "metadata": {},
   "outputs": [
    {
     "name": "stdout",
     "output_type": "stream",
     "text": [
      "_________________________________________________________________\n",
      "Layer (type)                 Output Shape              Param #   \n",
      "=================================================================\n",
      "conv2d_2 (Conv2D)            (None, 98, 148, 64)       1792      \n",
      "_________________________________________________________________\n",
      "conv2d_3 (Conv2D)            (None, 96, 146, 32)       18464     \n",
      "_________________________________________________________________\n",
      "conv2d_4 (Conv2D)            (None, 94, 144, 16)       4624      \n",
      "_________________________________________________________________\n",
      "max_pooling2d_2 (MaxPooling2 (None, 47, 72, 16)        0         \n",
      "_________________________________________________________________\n",
      "flatten_2 (Flatten)          (None, 54144)             0         \n",
      "_________________________________________________________________\n",
      "dropout_2 (Dropout)          (None, 54144)             0         \n",
      "_________________________________________________________________\n",
      "dense_3 (Dense)              (None, 64)                3465280   \n",
      "_________________________________________________________________\n",
      "dense_4 (Dense)              (None, 1)                 65        \n",
      "=================================================================\n",
      "Total params: 3,490,225\n",
      "Trainable params: 3,490,225\n",
      "Non-trainable params: 0\n",
      "_________________________________________________________________\n"
     ]
    }
   ],
   "source": [
    "model = Sequential()\n",
    "\n",
    "model.add(Conv2D(filters = 64,  # convolutional layer 1       \n",
    "                 kernel_size = 3,   \n",
    "                 activation = 'relu',\n",
    "                 input_shape = (width, height, 3) \n",
    "                ))\n",
    "\n",
    "model.add(Conv2D(filters = 32,  # convolutional layer 1       \n",
    "                 kernel_size = 3,   \n",
    "                 activation = 'relu',\n",
    "                 input_shape = (width, height, 3) \n",
    "                ))\n",
    "\n",
    "model.add(Conv2D(filters = 16,  # convolutional layer 1       \n",
    "                 kernel_size = 3,   \n",
    "                 activation = 'relu',\n",
    "                 input_shape = (width, height, 3) \n",
    "                ))\n",
    "\n",
    "model.add(MaxPooling2D(pool_size=(2, 2))) # pooling layer 3\n",
    "\n",
    "model.add(Flatten())\n",
    "\n",
    "model.add(Dropout(.25))\n",
    "\n",
    "model.add(Dense(64, activation='relu'))  # a fully connected layer.\n",
    "\n",
    "model.add(Dense(1, activation='sigmoid')) # the output layer\n",
    "\n",
    "model.compile(optimizer = 'adam', \n",
    "              loss= 'binary_crossentropy',\n",
    "              metrics = ['accuracy'])\n",
    "\n",
    "model.summary()"
   ]
  },
  {
   "cell_type": "code",
   "execution_count": 29,
   "metadata": {},
   "outputs": [
    {
     "name": "stdout",
     "output_type": "stream",
     "text": [
      "Train on 282 samples, validate on 122 samples\n",
      "Epoch 1/15\n",
      " - 31s - loss: 0.7547 - acc: 0.5532 - val_loss: 0.6054 - val_acc: 0.7623\n",
      "Epoch 2/15\n",
      " - 29s - loss: 0.5575 - acc: 0.7376 - val_loss: 0.5568 - val_acc: 0.6803\n",
      "Epoch 3/15\n",
      " - 31s - loss: 0.4355 - acc: 0.8085 - val_loss: 0.5393 - val_acc: 0.6721\n",
      "Epoch 4/15\n",
      " - 31s - loss: 0.3232 - acc: 0.9007 - val_loss: 0.3550 - val_acc: 0.8197\n",
      "Epoch 5/15\n",
      " - 29s - loss: 0.2193 - acc: 0.9149 - val_loss: 0.4074 - val_acc: 0.8033\n",
      "Epoch 6/15\n",
      " - 27s - loss: 0.1377 - acc: 0.9645 - val_loss: 0.2962 - val_acc: 0.8852\n",
      "Epoch 7/15\n",
      " - 27s - loss: 0.0484 - acc: 0.9929 - val_loss: 0.3540 - val_acc: 0.8770\n",
      "Epoch 8/15\n",
      " - 27s - loss: 0.0162 - acc: 0.9965 - val_loss: 0.2619 - val_acc: 0.9098\n",
      "Epoch 9/15\n",
      " - 30s - loss: 0.0035 - acc: 1.0000 - val_loss: 0.3130 - val_acc: 0.9016\n",
      "Epoch 10/15\n",
      " - 28s - loss: 0.0022 - acc: 1.0000 - val_loss: 0.3541 - val_acc: 0.8934\n",
      "Epoch 11/15\n",
      " - 29s - loss: 0.0013 - acc: 1.0000 - val_loss: 0.3170 - val_acc: 0.9016\n",
      "Epoch 12/15\n",
      " - 28s - loss: 9.6292e-04 - acc: 1.0000 - val_loss: 0.4232 - val_acc: 0.8852\n",
      "Epoch 13/15\n",
      " - 31s - loss: 5.1371e-04 - acc: 1.0000 - val_loss: 0.4834 - val_acc: 0.8770\n",
      "Epoch 14/15\n",
      " - 28s - loss: 1.5620e-04 - acc: 1.0000 - val_loss: 0.4317 - val_acc: 0.8852\n",
      "Epoch 15/15\n",
      " - 27s - loss: 1.8204e-04 - acc: 1.0000 - val_loss: 0.4402 - val_acc: 0.8852\n"
     ]
    },
    {
     "data": {
      "image/png": "[encoded data removed]",
      "text/plain": [
       "<Figure size 432x288 with 1 Axes>"
      ]
     },
     "metadata": {},
     "output_type": "display_data"
    }
   ],
   "source": [
    "results = model.fit(X_train,\n",
    "                    y_train, \n",
    "                    batch_size = 32, \n",
    "                    epochs = 15,\n",
    "                    validation_data=(X_test, y_test),\n",
    "                    verbose = 2)\n",
    "\n",
    "plt.plot(results.history['val_acc'], label = 'Test Accuracy')\n",
    "plt.plot(results.history['acc'], label = 'Train Accuracy', ls = '--')\n",
    "plt.legend();"
   ]
  },
  {
   "cell_type": "code",
   "execution_count": 31,
   "metadata": {},
   "outputs": [
    {
     "name": "stdout",
     "output_type": "stream",
     "text": [
      "_________________________________________________________________\n",
      "Layer (type)                 Output Shape              Param #   \n",
      "=================================================================\n",
      "conv2d_9 (Conv2D)            (None, 98, 148, 64)       1792      \n",
      "_________________________________________________________________\n",
      "conv2d_10 (Conv2D)           (None, 96, 146, 32)       18464     \n",
      "_________________________________________________________________\n",
      "conv2d_11 (Conv2D)           (None, 94, 144, 16)       4624      \n",
      "_________________________________________________________________\n",
      "conv2d_12 (Conv2D)           (None, 92, 142, 8)        1160      \n",
      "_________________________________________________________________\n",
      "max_pooling2d_4 (MaxPooling2 (None, 46, 71, 8)         0         \n",
      "_________________________________________________________________\n",
      "flatten_4 (Flatten)          (None, 26128)             0         \n",
      "_________________________________________________________________\n",
      "dropout_4 (Dropout)          (None, 26128)             0         \n",
      "_________________________________________________________________\n",
      "dense_7 (Dense)              (None, 64)                1672256   \n",
      "_________________________________________________________________\n",
      "dense_8 (Dense)              (None, 1)                 65        \n",
      "=================================================================\n",
      "Total params: 1,698,361\n",
      "Trainable params: 1,698,361\n",
      "Non-trainable params: 0\n",
      "_________________________________________________________________\n"
     ]
    }
   ],
   "source": [
    "model = Sequential()\n",
    "\n",
    "model.add(Conv2D(filters = 64,  # convolutional layer 1       \n",
    "                 kernel_size = 3,   \n",
    "                 activation = 'relu',\n",
    "                 input_shape = (width, height, 3) \n",
    "                ))\n",
    "\n",
    "model.add(Conv2D(filters = 32,  # convolutional layer 1       \n",
    "                 kernel_size = 3,   \n",
    "                 activation = 'relu',\n",
    "                 input_shape = (width, height, 3) \n",
    "                ))\n",
    "\n",
    "model.add(Conv2D(filters = 16,  # convolutional layer 1       \n",
    "                 kernel_size = 3,   \n",
    "                 activation = 'relu',\n",
    "                 input_shape = (width, height, 3) \n",
    "                ))\n",
    "\n",
    "model.add(Conv2D(filters = 8,  # convolutional layer 1       \n",
    "                 kernel_size = 3,   \n",
    "                 activation = 'relu',\n",
    "                 input_shape = (width, height, 3) \n",
    "                ))\n",
    "\n",
    "model.add(MaxPooling2D(pool_size=(2, 2))) # pooling layer 3\n",
    "\n",
    "model.add(Flatten())\n",
    "\n",
    "model.add(Dropout(.25))\n",
    "\n",
    "model.add(Dense(64, activation='relu'))  # a fully connected layer.\n",
    "\n",
    "model.add(Dense(1, activation='sigmoid')) # the output layer\n",
    "\n",
    "model.compile(optimizer = 'adam', \n",
    "              loss= 'binary_crossentropy',\n",
    "              metrics = ['accuracy'])\n",
    "\n",
    "model.summary()"
   ]
  },
  {
   "cell_type": "code",
   "execution_count": 32,
   "metadata": {},
   "outputs": [
    {
     "name": "stdout",
     "output_type": "stream",
     "text": [
      "Train on 282 samples, validate on 122 samples\n",
      "Epoch 1/15\n",
      " - 33s - loss: 0.7461 - acc: 0.5355 - val_loss: 0.6848 - val_acc: 0.5082\n",
      "Epoch 2/15\n",
      " - 34s - loss: 0.6834 - acc: 0.5284 - val_loss: 0.6646 - val_acc: 0.5328\n",
      "Epoch 3/15\n",
      " - 32s - loss: 0.5866 - acc: 0.7376 - val_loss: 0.5287 - val_acc: 0.7623\n",
      "Epoch 4/15\n",
      " - 32s - loss: 0.4108 - acc: 0.8156 - val_loss: 0.4987 - val_acc: 0.7377\n",
      "Epoch 5/15\n",
      " - 32s - loss: 0.3301 - acc: 0.8582 - val_loss: 0.3505 - val_acc: 0.8607\n",
      "Epoch 6/15\n",
      " - 31s - loss: 0.2193 - acc: 0.9255 - val_loss: 0.3165 - val_acc: 0.8689\n",
      "Epoch 7/15\n",
      " - 31s - loss: 0.1199 - acc: 0.9645 - val_loss: 0.2049 - val_acc: 0.9016\n",
      "Epoch 8/15\n",
      " - 31s - loss: 0.0635 - acc: 0.9858 - val_loss: 0.3054 - val_acc: 0.9098\n",
      "Epoch 9/15\n",
      " - 31s - loss: 0.0425 - acc: 0.9929 - val_loss: 0.2769 - val_acc: 0.8934\n",
      "Epoch 10/15\n",
      " - 35s - loss: 0.0532 - acc: 0.9858 - val_loss: 0.4750 - val_acc: 0.8607\n",
      "Epoch 11/15\n",
      " - 36s - loss: 0.0103 - acc: 1.0000 - val_loss: 0.6303 - val_acc: 0.8361\n",
      "Epoch 12/15\n",
      " - 38s - loss: 0.0099 - acc: 1.0000 - val_loss: 0.1828 - val_acc: 0.9426\n",
      "Epoch 13/15\n",
      " - 34s - loss: 0.0086 - acc: 1.0000 - val_loss: 0.6543 - val_acc: 0.8525\n",
      "Epoch 14/15\n",
      " - 36s - loss: 0.0128 - acc: 0.9929 - val_loss: 0.2058 - val_acc: 0.9016\n",
      "Epoch 15/15\n",
      " - 34s - loss: 0.0033 - acc: 1.0000 - val_loss: 0.3228 - val_acc: 0.8770\n"
     ]
    },
    {
     "data": {
      "image/png": "[encoded data removed]",
      "text/plain": [
       "<Figure size 432x288 with 1 Axes>"
      ]
     },
     "metadata": {},
     "output_type": "display_data"
    }
   ],
   "source": [
    "results = model.fit(X_train,\n",
    "                    y_train, \n",
    "                    batch_size = 32, \n",
    "                    epochs = 15,\n",
    "                    validation_data=(X_test, y_test),\n",
    "                    verbose = 2)\n",
    "\n",
    "plt.plot(results.history['val_acc'], label = 'Test Accuracy')\n",
    "plt.plot(results.history['acc'], label = 'Train Accuracy', ls = '--')\n",
    "plt.legend();"
   ]
  },
  {
   "cell_type": "markdown",
   "metadata": {},
   "source": [
    "## oversampling on train"
   ]
  },
  {
   "cell_type": "code",
   "execution_count": 33,
   "metadata": {},
   "outputs": [
    {
     "data": {
      "text/plain": [
       "1    0.746269\n",
       "0    0.253731\n",
       "Name: label, dtype: float64"
      ]
     },
     "execution_count": 33,
     "metadata": {},
     "output_type": "execute_result"
    }
   ],
   "source": [
    "pinole['label'].value_counts(normalize=True)"
   ]
  },
  {
   "cell_type": "code",
   "execution_count": 62,
   "metadata": {},
   "outputs": [],
   "source": [
    "X = pinole\n",
    "y = pinole.iloc[:,45014]"
   ]
  },
  {
   "cell_type": "code",
   "execution_count": 63,
   "metadata": {},
   "outputs": [
    {
     "data": {
      "text/plain": [
       "((187, 45015), (81, 45015), (187,), (81,))"
      ]
     },
     "execution_count": 63,
     "metadata": {},
     "output_type": "execute_result"
    }
   ],
   "source": [
    "X_train, X_test, y_train, y_test = train_test_split(X, \n",
    "                                                    y, \n",
    "                                                    test_size=0.3, \n",
    "                                                    random_state=42,\n",
    "                                                    stratify = y)\n",
    "X_train.shape, X_test.shape, y_train.shape, y_test.shape"
   ]
  },
  {
   "cell_type": "code",
   "execution_count": 64,
   "metadata": {
    "scrolled": false
   },
   "outputs": [
    {
     "data": {
      "text/plain": [
       "1    140\n",
       "0     47\n",
       "Name: label, dtype: int64"
      ]
     },
     "execution_count": 64,
     "metadata": {},
     "output_type": "execute_result"
    }
   ],
   "source": [
    "X_train['label'].value_counts()"
   ]
  },
  {
   "cell_type": "code",
   "execution_count": 65,
   "metadata": {},
   "outputs": [
    {
     "data": {
      "text/plain": [
       "(47, 45015)"
      ]
     },
     "execution_count": 65,
     "metadata": {},
     "output_type": "execute_result"
    }
   ],
   "source": [
    "minority = X_train[X_train['label'] == 0]\n",
    "minority.shape"
   ]
  },
  {
   "cell_type": "code",
   "execution_count": 66,
   "metadata": {},
   "outputs": [
    {
     "name": "stdout",
     "output_type": "stream",
     "text": [
      "47\n"
     ]
    },
    {
     "data": {
      "text/plain": [
       "0    141\n",
       "1    140\n",
       "Name: label, dtype: int64"
      ]
     },
     "execution_count": 66,
     "metadata": {},
     "output_type": "execute_result"
    }
   ],
   "source": [
    "num = min(X_train['label'].value_counts())\n",
    "print(num)\n",
    "duplicate = minority.sample(n=num*2, replace=True, random_state=42)\n",
    "X_over = pd.concat([X_train, duplicate])\n",
    "X_over['label'].value_counts()"
   ]
  },
  {
   "cell_type": "code",
   "execution_count": 67,
   "metadata": {},
   "outputs": [
    {
     "data": {
      "text/plain": [
       "((281, 45000), (81, 45000), (281,), (81,))"
      ]
     },
     "execution_count": 67,
     "metadata": {},
     "output_type": "execute_result"
    }
   ],
   "source": [
    "X_train = X_over.iloc[:,14:45014]\n",
    "y_train = X_over.iloc[:,45014]\n",
    "X_test = X_test.iloc[:,14:45014]\n",
    "X_train.shape, X_test.shape, y_train.shape, y_test.shape"
   ]
  },
  {
   "cell_type": "code",
   "execution_count": 70,
   "metadata": {},
   "outputs": [],
   "source": [
    "width = 100\n",
    "height = 150\n",
    "\n",
    "num_train = X_train.shape[0]\n",
    "X_train_reshape = np.reshape(X_train.values, (num_train, 100, 150, 3))\n",
    "X_train_reshape = X_train_reshape.astype('float32')\n",
    "X_train_reshape /= 255.\n",
    "\n",
    "num_test = X_test.shape[0]\n",
    "X_test_reshape = np.reshape(X_test.values, (num_test, 100, 150, 3))\n",
    "X_test_reshape = X_test_reshape.astype('float32')\n",
    "X_test_reshape /= 255.\n"
   ]
  },
  {
   "cell_type": "code",
   "execution_count": 80,
   "metadata": {},
   "outputs": [
    {
     "name": "stdout",
     "output_type": "stream",
     "text": [
      "_________________________________________________________________\n",
      "Layer (type)                 Output Shape              Param #   \n",
      "=================================================================\n",
      "conv2d_36 (Conv2D)           (None, 98, 148, 64)       1792      \n",
      "_________________________________________________________________\n",
      "conv2d_37 (Conv2D)           (None, 96, 146, 32)       18464     \n",
      "_________________________________________________________________\n",
      "conv2d_38 (Conv2D)           (None, 94, 144, 16)       4624      \n",
      "_________________________________________________________________\n",
      "max_pooling2d_12 (MaxPooling (None, 47, 72, 16)        0         \n",
      "_________________________________________________________________\n",
      "conv2d_39 (Conv2D)           (None, 45, 70, 64)        9280      \n",
      "_________________________________________________________________\n",
      "conv2d_40 (Conv2D)           (None, 43, 68, 32)        18464     \n",
      "_________________________________________________________________\n",
      "conv2d_41 (Conv2D)           (None, 41, 66, 16)        4624      \n",
      "_________________________________________________________________\n",
      "max_pooling2d_13 (MaxPooling (None, 20, 33, 16)        0         \n",
      "_________________________________________________________________\n",
      "dropout_14 (Dropout)         (None, 20, 33, 16)        0         \n",
      "_________________________________________________________________\n",
      "flatten_11 (Flatten)         (None, 10560)             0         \n",
      "_________________________________________________________________\n",
      "dropout_15 (Dropout)         (None, 10560)             0         \n",
      "_________________________________________________________________\n",
      "dense_21 (Dense)             (None, 64)                675904    \n",
      "_________________________________________________________________\n",
      "dense_22 (Dense)             (None, 1)                 65        \n",
      "=================================================================\n",
      "Total params: 733,217\n",
      "Trainable params: 733,217\n",
      "Non-trainable params: 0\n",
      "_________________________________________________________________\n"
     ]
    }
   ],
   "source": [
    "model = Sequential()\n",
    "\n",
    "model.add(Conv2D(filters = 64,  # convolutional layer 1       \n",
    "                 kernel_size = 3,   \n",
    "                 activation = 'relu',\n",
    "                 input_shape = (width, height, 3) \n",
    "                ))\n",
    "\n",
    "model.add(Conv2D(filters = 32,  # convolutional layer 1       \n",
    "                 kernel_size = 3,   \n",
    "                 activation = 'relu',\n",
    "                 input_shape = (width, height, 3) \n",
    "                ))\n",
    "\n",
    "model.add(Conv2D(filters = 16,  # convolutional layer 1       \n",
    "                 kernel_size = 3,   \n",
    "                 activation = 'relu',\n",
    "                 input_shape = (width, height, 3) \n",
    "                ))\n",
    "\n",
    "model.add(MaxPooling2D(pool_size=(2, 2))) \n",
    "\n",
    "model.add(Conv2D(filters = 64,         \n",
    "                 kernel_size = 3,   \n",
    "                 activation = 'relu',\n",
    "                 input_shape = (width, height, 3) \n",
    "                ))\n",
    "\n",
    "model.add(Conv2D(filters = 32,     \n",
    "                 kernel_size = 3,   \n",
    "                 activation = 'relu',\n",
    "                 input_shape = (width, height, 3) \n",
    "                ))\n",
    "\n",
    "model.add(Conv2D(filters = 16,  # convolutional layer 1       \n",
    "                 kernel_size = 3,   \n",
    "                 activation = 'relu',\n",
    "                 input_shape = (width, height, 3) \n",
    "                ))\n",
    "\n",
    "model.add(MaxPooling2D(pool_size=(2, 2))) # pooling layer 3\n",
    "\n",
    "model.add(Dropout(.25))\n",
    "\n",
    "model.add(Flatten())\n",
    "\n",
    "model.add(Dropout(.25))\n",
    "\n",
    "model.add(Dense(64, activation='relu'))  # a fully connected layer.\n",
    "\n",
    "model.add(Dense(1, activation='sigmoid')) # the output layer\n",
    "\n",
    "model.compile(optimizer = 'adam', \n",
    "              loss= 'binary_crossentropy',\n",
    "              metrics = ['accuracy'])\n",
    "\n",
    "model.summary()"
   ]
  },
  {
   "cell_type": "code",
   "execution_count": 81,
   "metadata": {},
   "outputs": [
    {
     "name": "stdout",
     "output_type": "stream",
     "text": [
      "Train on 281 samples, validate on 81 samples\n",
      "Epoch 1/15\n",
      " - 37s - loss: 0.6957 - acc: 0.4804 - val_loss: 0.6977 - val_acc: 0.2716\n",
      "Epoch 2/15\n",
      " - 38s - loss: 0.6888 - acc: 0.5694 - val_loss: 0.6716 - val_acc: 0.7407\n",
      "Epoch 3/15\n",
      " - 34s - loss: 0.6829 - acc: 0.6370 - val_loss: 0.7954 - val_acc: 0.4444\n",
      "Epoch 4/15\n",
      " - 35s - loss: 0.6315 - acc: 0.6548 - val_loss: 0.7010 - val_acc: 0.4938\n",
      "Epoch 5/15\n",
      " - 35s - loss: 0.5547 - acc: 0.7260 - val_loss: 0.6717 - val_acc: 0.6790\n",
      "Epoch 6/15\n",
      " - 33s - loss: 0.4447 - acc: 0.7900 - val_loss: 0.7141 - val_acc: 0.6667\n",
      "Epoch 7/15\n",
      " - 34s - loss: 0.3477 - acc: 0.8505 - val_loss: 0.7800 - val_acc: 0.6914\n",
      "Epoch 8/15\n",
      " - 38s - loss: 0.1952 - acc: 0.9395 - val_loss: 1.0948 - val_acc: 0.7531\n",
      "Epoch 9/15\n",
      " - 32s - loss: 0.1762 - acc: 0.9359 - val_loss: 1.3564 - val_acc: 0.6543\n",
      "Epoch 10/15\n",
      " - 35s - loss: 0.1016 - acc: 0.9609 - val_loss: 1.6133 - val_acc: 0.6914\n",
      "Epoch 11/15\n",
      " - 35s - loss: 0.0585 - acc: 0.9786 - val_loss: 1.7575 - val_acc: 0.7407\n",
      "Epoch 12/15\n",
      " - 36s - loss: 0.0652 - acc: 0.9822 - val_loss: 1.8758 - val_acc: 0.7654\n",
      "Epoch 13/15\n",
      " - 37s - loss: 0.0727 - acc: 0.9644 - val_loss: 1.8358 - val_acc: 0.7037\n",
      "Epoch 14/15\n",
      " - 36s - loss: 0.0453 - acc: 0.9822 - val_loss: 1.8599 - val_acc: 0.6790\n",
      "Epoch 15/15\n",
      " - 35s - loss: 0.0270 - acc: 0.9858 - val_loss: 1.8470 - val_acc: 0.7407\n"
     ]
    },
    {
     "data": {
      "image/png": "[encoded data removed]",
      "text/plain": [
       "<Figure size 432x288 with 1 Axes>"
      ]
     },
     "metadata": {},
     "output_type": "display_data"
    }
   ],
   "source": [
    "results = model.fit(X_train_reshape,\n",
    "                    y_train, \n",
    "                    batch_size = 32, \n",
    "                    epochs = 15,\n",
    "                    validation_data=(X_test_reshape, y_test),\n",
    "                    verbose = 2)\n",
    "\n",
    "plt.plot(results.history['val_acc'], label = 'Test Accuracy')\n",
    "plt.plot(results.history['acc'], label = 'Train Accuracy', ls = '--')\n",
    "plt.legend();"
   ]
  },
  {
   "cell_type": "code",
   "execution_count": null,
   "metadata": {},
   "outputs": [],
   "source": []
  }
 ],
 "metadata": {
  "kernelspec": {
   "display_name": "Python [conda env:dsi]",
   "language": "python",
   "name": "conda-env-dsi-py"
  },
  "language_info": {
   "codemirror_mode": {
    "name": "ipython",
    "version": 3
   },
   "file_extension": ".py",
   "mimetype": "text/x-python",
   "name": "python",
   "nbconvert_exporter": "python",
   "pygments_lexer": "ipython3",
   "version": "3.6.5"
  }
 },
 "nbformat": 4,
 "nbformat_minor": 2
}
