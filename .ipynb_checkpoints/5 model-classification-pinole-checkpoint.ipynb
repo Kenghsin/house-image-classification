{
 "cells": [
  {
   "cell_type": "code",
   "execution_count": 1,
   "metadata": {},
   "outputs": [
    {
     "name": "stderr",
     "output_type": "stream",
     "text": [
      "/anaconda3/envs/dsi/lib/python3.6/site-packages/sklearn/ensemble/weight_boosting.py:29: DeprecationWarning: numpy.core.umath_tests is an internal NumPy module and should not be imported. It will be removed in a future NumPy release.\n",
      "  from numpy.core.umath_tests import inner1d\n"
     ]
    }
   ],
   "source": [
    "import pandas as pd\n",
    "from sklearn.model_selection import train_test_split, GridSearchCV\n",
    "from sklearn.metrics import accuracy_score\n",
    "from sklearn.linear_model import LogisticRegression\n",
    "from sklearn.neighbors import KNeighborsClassifier\n",
    "from sklearn.tree import DecisionTreeClassifier\n",
    "from sklearn import svm\n",
    "from sklearn.ensemble import RandomForestClassifier, GradientBoostingClassifier"
   ]
  },
  {
   "cell_type": "code",
   "execution_count": 53,
   "metadata": {},
   "outputs": [],
   "source": [
    "elcerrito = pd.read_csv('./dataset/elcerrito150x100.csv')\n",
    "elsobrante = pd.read_csv('./dataset/elsobrante150x100.csv')\n",
    "pinole = pd.read_csv('./dataset/pinole150x100.csv')\n",
    "hercules = pd.read_csv('./dataset/hercules150x100.csv')\n",
    "sanpablo = pd.read_csv('./dataset/sanpablo150x100.csv')"
   ]
  },
  {
   "cell_type": "code",
   "execution_count": 61,
   "metadata": {},
   "outputs": [],
   "source": [
    "def classification(city):\n",
    "    \n",
    "    X = city.iloc[:,14:45014]\n",
    "    y = city.iloc[:,45014]\n",
    "\n",
    "    X = X.astype('float32') / 255.\n",
    "    \n",
    "    X_train, X_test, y_train, y_test = train_test_split(X, \n",
    "                                                    y, \n",
    "                                                    test_size=0.33, \n",
    "                                                    random_state=42,\n",
    "                                                    stratify = y)\n",
    "    \n",
    "    print('X_train:', X_train.shape, \n",
    "          'X_test:', X_test.shape, \n",
    "          'y_train:', y_train.shape, \n",
    "          'y_test:', y_test.shape)\n",
    "    \n",
    "    baseline = [round(max(y_train.value_counts(normalize=True)),3), round(max(y_test.value_counts(normalize=True)),3)]\n",
    "    \n",
    "    model_name = ['Logistic Regression', 'Decision tree', 'random Forest', 'KNN', 'SVM', 'Gradient Boosting', 'Baseline']\n",
    "    \n",
    "    model = [\n",
    "        LogisticRegression(random_state=42),\n",
    "        DecisionTreeClassifier(random_state=42),\n",
    "        RandomForestClassifier(random_state=42),\n",
    "        KNeighborsClassifier(),\n",
    "        svm.SVC(random_state=42),\n",
    "        GradientBoostingClassifier(random_state=42)        \n",
    "    ]\n",
    "    \n",
    "    params = [\n",
    "        {'penalty': ['l1', 'l2'], 'C': [.1, .5, 1, 5, 10]},\n",
    "        {},\n",
    "        {'n_estimators': [5, 10, 15]},\n",
    "        {'n_neighbors' : [3, 5, 7]},\n",
    "        {'C': [1, 5, 10], 'gamma': [0.001, 0.01]},\n",
    "        {'learning_rate': [.05, .1]}             \n",
    "    ]\n",
    "    \n",
    "    accuracy = []\n",
    "    \n",
    "    for _ in range(6):\n",
    "        print(model_name[_])\n",
    "        gs = GridSearchCV(model[_], params[_], cv = None)\n",
    "        gs.fit(X_train, y_train)\n",
    "        accuracy.append([round(gs.score(X_train, y_train),3), round(gs.score(X_test, y_test),3)])\n",
    "        \n",
    "    accuracy.append(baseline)\n",
    "    \n",
    "    df = pd.DataFrame(data = accuracy, index = model_name, columns = ['train', 'test'])\n",
    "    \n",
    "    return df\n",
    "    "
   ]
  },
  {
   "cell_type": "code",
   "execution_count": 69,
   "metadata": {},
   "outputs": [
    {
     "name": "stdout",
     "output_type": "stream",
     "text": [
      "X_train: (150, 45000) X_test: (75, 45000) y_train: (150,) y_test: (75,)\n",
      "Logistic Regression\n",
      "Decision tree\n",
      "random Forest\n",
      "KNN\n",
      "SVM\n",
      "Gradient Boosting\n"
     ]
    },
    {
     "data": {
      "text/html": [
       "<div>\n",
       "<style scoped>\n",
       "    .dataframe tbody tr th:only-of-type {\n",
       "        vertical-align: middle;\n",
       "    }\n",
       "\n",
       "    .dataframe tbody tr th {\n",
       "        vertical-align: top;\n",
       "    }\n",
       "\n",
       "    .dataframe thead th {\n",
       "        text-align: right;\n",
       "    }\n",
       "</style>\n",
       "<table border=\"1\" class=\"dataframe\">\n",
       "  <thead>\n",
       "    <tr style=\"text-align: right;\">\n",
       "      <th></th>\n",
       "      <th>train</th>\n",
       "      <th>test</th>\n",
       "    </tr>\n",
       "  </thead>\n",
       "  <tbody>\n",
       "    <tr>\n",
       "      <th>Logistic Regression</th>\n",
       "      <td>0.660</td>\n",
       "      <td>0.667</td>\n",
       "    </tr>\n",
       "    <tr>\n",
       "      <th>Decision tree</th>\n",
       "      <td>1.000</td>\n",
       "      <td>0.547</td>\n",
       "    </tr>\n",
       "    <tr>\n",
       "      <th>random Forest</th>\n",
       "      <td>0.993</td>\n",
       "      <td>0.547</td>\n",
       "    </tr>\n",
       "    <tr>\n",
       "      <th>KNN</th>\n",
       "      <td>0.667</td>\n",
       "      <td>0.640</td>\n",
       "    </tr>\n",
       "    <tr>\n",
       "      <th>SVM</th>\n",
       "      <td>1.000</td>\n",
       "      <td>0.667</td>\n",
       "    </tr>\n",
       "    <tr>\n",
       "      <th>Gradient Boosting</th>\n",
       "      <td>1.000</td>\n",
       "      <td>0.560</td>\n",
       "    </tr>\n",
       "    <tr>\n",
       "      <th>Baseline</th>\n",
       "      <td>0.660</td>\n",
       "      <td>0.667</td>\n",
       "    </tr>\n",
       "  </tbody>\n",
       "</table>\n",
       "</div>"
      ],
      "text/plain": [
       "                     train   test\n",
       "Logistic Regression  0.660  0.667\n",
       "Decision tree        1.000  0.547\n",
       "random Forest        0.993  0.547\n",
       "KNN                  0.667  0.640\n",
       "SVM                  1.000  0.667\n",
       "Gradient Boosting    1.000  0.560\n",
       "Baseline             0.660  0.667"
      ]
     },
     "execution_count": 69,
     "metadata": {},
     "output_type": "execute_result"
    }
   ],
   "source": [
    "elcerrito_results = classification(elcerrito)\n",
    "elcerrito_results"
   ]
  },
  {
   "cell_type": "code",
   "execution_count": 62,
   "metadata": {},
   "outputs": [
    {
     "name": "stdout",
     "output_type": "stream",
     "text": [
      "X_train: (179, 45000) X_test: (89, 45000) y_train: (179,) y_test: (89,)\n",
      "Logistic Regression\n",
      "Decision tree\n",
      "random Forest\n",
      "KNN\n",
      "SVM\n",
      "Gradient Boosting\n"
     ]
    },
    {
     "data": {
      "text/html": [
       "<div>\n",
       "<style scoped>\n",
       "    .dataframe tbody tr th:only-of-type {\n",
       "        vertical-align: middle;\n",
       "    }\n",
       "\n",
       "    .dataframe tbody tr th {\n",
       "        vertical-align: top;\n",
       "    }\n",
       "\n",
       "    .dataframe thead th {\n",
       "        text-align: right;\n",
       "    }\n",
       "</style>\n",
       "<table border=\"1\" class=\"dataframe\">\n",
       "  <thead>\n",
       "    <tr style=\"text-align: right;\">\n",
       "      <th></th>\n",
       "      <th>train</th>\n",
       "      <th>test</th>\n",
       "    </tr>\n",
       "  </thead>\n",
       "  <tbody>\n",
       "    <tr>\n",
       "      <th>Logistic Regression</th>\n",
       "      <td>0.749</td>\n",
       "      <td>0.742</td>\n",
       "    </tr>\n",
       "    <tr>\n",
       "      <th>Decision tree</th>\n",
       "      <td>1.000</td>\n",
       "      <td>0.640</td>\n",
       "    </tr>\n",
       "    <tr>\n",
       "      <th>random Forest</th>\n",
       "      <td>0.989</td>\n",
       "      <td>0.708</td>\n",
       "    </tr>\n",
       "    <tr>\n",
       "      <th>KNN</th>\n",
       "      <td>0.827</td>\n",
       "      <td>0.809</td>\n",
       "    </tr>\n",
       "    <tr>\n",
       "      <th>SVM</th>\n",
       "      <td>1.000</td>\n",
       "      <td>0.742</td>\n",
       "    </tr>\n",
       "    <tr>\n",
       "      <th>Gradient Boosting</th>\n",
       "      <td>1.000</td>\n",
       "      <td>0.753</td>\n",
       "    </tr>\n",
       "    <tr>\n",
       "      <th>Baseline</th>\n",
       "      <td>0.749</td>\n",
       "      <td>0.742</td>\n",
       "    </tr>\n",
       "  </tbody>\n",
       "</table>\n",
       "</div>"
      ],
      "text/plain": [
       "                     train   test\n",
       "Logistic Regression  0.749  0.742\n",
       "Decision tree        1.000  0.640\n",
       "random Forest        0.989  0.708\n",
       "KNN                  0.827  0.809\n",
       "SVM                  1.000  0.742\n",
       "Gradient Boosting    1.000  0.753\n",
       "Baseline             0.749  0.742"
      ]
     },
     "execution_count": 62,
     "metadata": {},
     "output_type": "execute_result"
    }
   ],
   "source": [
    "pinole_result = classification(pinole)\n",
    "pinole_result"
   ]
  },
  {
   "cell_type": "code",
   "execution_count": 57,
   "metadata": {},
   "outputs": [
    {
     "name": "stdout",
     "output_type": "stream",
     "text": [
      "X_train: (115, 45000) X_test: (58, 45000) y_train: (115,) y_test: (58,)\n",
      "Logistic Regression\n",
      "Decision Tree\n",
      "Random Forest\n",
      "KNN\n",
      "SVM\n",
      "Gradient Boosting\n"
     ]
    },
    {
     "data": {
      "text/html": [
       "<div>\n",
       "<style scoped>\n",
       "    .dataframe tbody tr th:only-of-type {\n",
       "        vertical-align: middle;\n",
       "    }\n",
       "\n",
       "    .dataframe tbody tr th {\n",
       "        vertical-align: top;\n",
       "    }\n",
       "\n",
       "    .dataframe thead th {\n",
       "        text-align: right;\n",
       "    }\n",
       "</style>\n",
       "<table border=\"1\" class=\"dataframe\">\n",
       "  <thead>\n",
       "    <tr style=\"text-align: right;\">\n",
       "      <th></th>\n",
       "      <th>train</th>\n",
       "      <th>test</th>\n",
       "    </tr>\n",
       "  </thead>\n",
       "  <tbody>\n",
       "    <tr>\n",
       "      <th>Logistic Regression</th>\n",
       "      <td>0.956522</td>\n",
       "      <td>0.620690</td>\n",
       "    </tr>\n",
       "    <tr>\n",
       "      <th>Decision tree</th>\n",
       "      <td>1.000000</td>\n",
       "      <td>0.534483</td>\n",
       "    </tr>\n",
       "    <tr>\n",
       "      <th>random Forest</th>\n",
       "      <td>0.991304</td>\n",
       "      <td>0.568966</td>\n",
       "    </tr>\n",
       "    <tr>\n",
       "      <th>KNN</th>\n",
       "      <td>0.756522</td>\n",
       "      <td>0.603448</td>\n",
       "    </tr>\n",
       "    <tr>\n",
       "      <th>SVM</th>\n",
       "      <td>1.000000</td>\n",
       "      <td>0.586207</td>\n",
       "    </tr>\n",
       "    <tr>\n",
       "      <th>Gradient Boosting</th>\n",
       "      <td>1.000000</td>\n",
       "      <td>0.620690</td>\n",
       "    </tr>\n",
       "    <tr>\n",
       "      <th>Baseline</th>\n",
       "      <td>0.583000</td>\n",
       "      <td>0.586000</td>\n",
       "    </tr>\n",
       "  </tbody>\n",
       "</table>\n",
       "</div>"
      ],
      "text/plain": [
       "                        train      test\n",
       "Logistic Regression  0.956522  0.620690\n",
       "Decision tree        1.000000  0.534483\n",
       "random Forest        0.991304  0.568966\n",
       "KNN                  0.756522  0.603448\n",
       "SVM                  1.000000  0.586207\n",
       "Gradient Boosting    1.000000  0.620690\n",
       "Baseline             0.583000  0.586000"
      ]
     },
     "execution_count": 57,
     "metadata": {},
     "output_type": "execute_result"
    }
   ],
   "source": [
    "elsobrante_results = classification(elsobrante)\n",
    "elsobrante_results"
   ]
  },
  {
   "cell_type": "code",
   "execution_count": 58,
   "metadata": {},
   "outputs": [
    {
     "name": "stdout",
     "output_type": "stream",
     "text": [
      "X_train: (153, 45000) X_test: (76, 45000) y_train: (153,) y_test: (76,)\n",
      "Logistic Regression\n",
      "Decision Tree\n",
      "Random Forest\n",
      "KNN\n",
      "SVM\n",
      "Gradient Boosting\n"
     ]
    },
    {
     "data": {
      "text/html": [
       "<div>\n",
       "<style scoped>\n",
       "    .dataframe tbody tr th:only-of-type {\n",
       "        vertical-align: middle;\n",
       "    }\n",
       "\n",
       "    .dataframe tbody tr th {\n",
       "        vertical-align: top;\n",
       "    }\n",
       "\n",
       "    .dataframe thead th {\n",
       "        text-align: right;\n",
       "    }\n",
       "</style>\n",
       "<table border=\"1\" class=\"dataframe\">\n",
       "  <thead>\n",
       "    <tr style=\"text-align: right;\">\n",
       "      <th></th>\n",
       "      <th>train</th>\n",
       "      <th>test</th>\n",
       "    </tr>\n",
       "  </thead>\n",
       "  <tbody>\n",
       "    <tr>\n",
       "      <th>Logistic Regression</th>\n",
       "      <td>0.679739</td>\n",
       "      <td>0.684211</td>\n",
       "    </tr>\n",
       "    <tr>\n",
       "      <th>Decision tree</th>\n",
       "      <td>1.000000</td>\n",
       "      <td>0.539474</td>\n",
       "    </tr>\n",
       "    <tr>\n",
       "      <th>random Forest</th>\n",
       "      <td>0.993464</td>\n",
       "      <td>0.657895</td>\n",
       "    </tr>\n",
       "    <tr>\n",
       "      <th>KNN</th>\n",
       "      <td>0.771242</td>\n",
       "      <td>0.513158</td>\n",
       "    </tr>\n",
       "    <tr>\n",
       "      <th>SVM</th>\n",
       "      <td>1.000000</td>\n",
       "      <td>0.684211</td>\n",
       "    </tr>\n",
       "    <tr>\n",
       "      <th>Gradient Boosting</th>\n",
       "      <td>1.000000</td>\n",
       "      <td>0.671053</td>\n",
       "    </tr>\n",
       "    <tr>\n",
       "      <th>Baseline</th>\n",
       "      <td>0.680000</td>\n",
       "      <td>0.684000</td>\n",
       "    </tr>\n",
       "  </tbody>\n",
       "</table>\n",
       "</div>"
      ],
      "text/plain": [
       "                        train      test\n",
       "Logistic Regression  0.679739  0.684211\n",
       "Decision tree        1.000000  0.539474\n",
       "random Forest        0.993464  0.657895\n",
       "KNN                  0.771242  0.513158\n",
       "SVM                  1.000000  0.684211\n",
       "Gradient Boosting    1.000000  0.671053\n",
       "Baseline             0.680000  0.684000"
      ]
     },
     "execution_count": 58,
     "metadata": {},
     "output_type": "execute_result"
    }
   ],
   "source": [
    "hercules_results = classification(hercules)\n",
    "hercules_results"
   ]
  },
  {
   "cell_type": "code",
   "execution_count": 60,
   "metadata": {},
   "outputs": [
    {
     "name": "stdout",
     "output_type": "stream",
     "text": [
      "X_train: (148, 45000) X_test: (74, 45000) y_train: (148,) y_test: (74,)\n",
      "Logistic Regression\n",
      "Decision Tree\n",
      "Random Forest\n",
      "KNN\n",
      "SVM\n",
      "Gradient Boosting\n"
     ]
    },
    {
     "data": {
      "text/html": [
       "<div>\n",
       "<style scoped>\n",
       "    .dataframe tbody tr th:only-of-type {\n",
       "        vertical-align: middle;\n",
       "    }\n",
       "\n",
       "    .dataframe tbody tr th {\n",
       "        vertical-align: top;\n",
       "    }\n",
       "\n",
       "    .dataframe thead th {\n",
       "        text-align: right;\n",
       "    }\n",
       "</style>\n",
       "<table border=\"1\" class=\"dataframe\">\n",
       "  <thead>\n",
       "    <tr style=\"text-align: right;\">\n",
       "      <th></th>\n",
       "      <th>train</th>\n",
       "      <th>test</th>\n",
       "    </tr>\n",
       "  </thead>\n",
       "  <tbody>\n",
       "    <tr>\n",
       "      <th>Logistic Regression</th>\n",
       "      <td>1.000000</td>\n",
       "      <td>0.783784</td>\n",
       "    </tr>\n",
       "    <tr>\n",
       "      <th>Decision tree</th>\n",
       "      <td>1.000000</td>\n",
       "      <td>0.662162</td>\n",
       "    </tr>\n",
       "    <tr>\n",
       "      <th>random Forest</th>\n",
       "      <td>0.966216</td>\n",
       "      <td>0.743243</td>\n",
       "    </tr>\n",
       "    <tr>\n",
       "      <th>KNN</th>\n",
       "      <td>0.777027</td>\n",
       "      <td>0.756757</td>\n",
       "    </tr>\n",
       "    <tr>\n",
       "      <th>SVM</th>\n",
       "      <td>1.000000</td>\n",
       "      <td>0.756757</td>\n",
       "    </tr>\n",
       "    <tr>\n",
       "      <th>Gradient Boosting</th>\n",
       "      <td>1.000000</td>\n",
       "      <td>0.743243</td>\n",
       "    </tr>\n",
       "    <tr>\n",
       "      <th>Baseline</th>\n",
       "      <td>0.757000</td>\n",
       "      <td>0.757000</td>\n",
       "    </tr>\n",
       "  </tbody>\n",
       "</table>\n",
       "</div>"
      ],
      "text/plain": [
       "                        train      test\n",
       "Logistic Regression  1.000000  0.783784\n",
       "Decision tree        1.000000  0.662162\n",
       "random Forest        0.966216  0.743243\n",
       "KNN                  0.777027  0.756757\n",
       "SVM                  1.000000  0.756757\n",
       "Gradient Boosting    1.000000  0.743243\n",
       "Baseline             0.757000  0.757000"
      ]
     },
     "execution_count": 60,
     "metadata": {},
     "output_type": "execute_result"
    }
   ],
   "source": [
    "sanpablo_results = classification(sanpablo)\n",
    "sanpablo_results"
   ]
  },
  {
   "cell_type": "markdown",
   "metadata": {},
   "source": [
    "### oversampling on train dataset"
   ]
  },
  {
   "cell_type": "code",
   "execution_count": 24,
   "metadata": {},
   "outputs": [
    {
     "data": {
      "text/plain": [
       "((268, 45001), (268,))"
      ]
     },
     "execution_count": 24,
     "metadata": {},
     "output_type": "execute_result"
    }
   ],
   "source": [
    "X = pinole.iloc[:,14:]\n",
    "y = pinole.iloc[:,45014]\n",
    "\n",
    "X.shape, y.shape"
   ]
  },
  {
   "cell_type": "code",
   "execution_count": 25,
   "metadata": {},
   "outputs": [
    {
     "data": {
      "text/plain": [
       "1    0.746269\n",
       "0    0.253731\n",
       "Name: label, dtype: float64"
      ]
     },
     "execution_count": 25,
     "metadata": {},
     "output_type": "execute_result"
    }
   ],
   "source": [
    "y.value_counts(normalize=True)"
   ]
  },
  {
   "cell_type": "code",
   "execution_count": 26,
   "metadata": {},
   "outputs": [],
   "source": [
    "X_train, X_test, y_train, y_test = train_test_split(X, \n",
    "                                                    y, \n",
    "                                                    test_size=0.33, \n",
    "                                                    random_state=42,\n",
    "                                                    stratify = y)"
   ]
  },
  {
   "cell_type": "code",
   "execution_count": 27,
   "metadata": {},
   "outputs": [
    {
     "data": {
      "text/plain": [
       "(1    0.748603\n",
       " 0    0.251397\n",
       " Name: label, dtype: float64, 1    0.741573\n",
       " 0    0.258427\n",
       " Name: label, dtype: float64)"
      ]
     },
     "execution_count": 27,
     "metadata": {},
     "output_type": "execute_result"
    }
   ],
   "source": [
    "y_train.value_counts(normalize=True), y_test.value_counts(normalize=True)"
   ]
  },
  {
   "cell_type": "code",
   "execution_count": 67,
   "metadata": {},
   "outputs": [],
   "source": [
    "zero = X_train[X_train['label'] == 0].shape[0]\n",
    "one = X_train[X_train['label'] == 1].shape[0]\n",
    "zero, one\n",
    "if zero < one:\n",
    "    minority = X_train[X_train['label'] == 0]\n",
    "    num = one - zero\n",
    "    duplicate = minority.sample(n=num, replace=True, random_state=42)\n",
    "elif zero > one: \n",
    "    minority = X_train[X_train['label'] == 1]\n",
    "    num = zero - one\n",
    "    duplicate = minority.sample(n=num, replace=True, random_state=42)"
   ]
  },
  {
   "cell_type": "code",
   "execution_count": 68,
   "metadata": {},
   "outputs": [
    {
     "data": {
      "text/plain": [
       "(45, 45001)"
      ]
     },
     "execution_count": 68,
     "metadata": {},
     "output_type": "execute_result"
    }
   ],
   "source": [
    "minority = X_train[X_train['label'] == 0]\n",
    "minority.shape"
   ]
  },
  {
   "cell_type": "code",
   "execution_count": 29,
   "metadata": {},
   "outputs": [
    {
     "data": {
      "text/plain": [
       "45"
      ]
     },
     "execution_count": 29,
     "metadata": {},
     "output_type": "execute_result"
    }
   ],
   "source": [
    "minority_num = min(minority['label'].value_counts())\n",
    "minority_num"
   ]
  },
  {
   "cell_type": "code",
   "execution_count": 30,
   "metadata": {},
   "outputs": [
    {
     "data": {
      "text/plain": [
       "0    135\n",
       "1    134\n",
       "Name: label, dtype: int64"
      ]
     },
     "execution_count": 30,
     "metadata": {},
     "output_type": "execute_result"
    }
   ],
   "source": [
    "duplicate = minority.sample(n=minority_num*2, replace=True, random_state=42)\n",
    "X_train_over = pd.concat([X_train, duplicate])\n",
    "X_train_over['label'].value_counts()"
   ]
  },
  {
   "cell_type": "code",
   "execution_count": 41,
   "metadata": {},
   "outputs": [
    {
     "data": {
      "text/plain": [
       "(269, 45001)"
      ]
     },
     "execution_count": 41,
     "metadata": {},
     "output_type": "execute_result"
    }
   ],
   "source": [
    "X_train_over.shape"
   ]
  },
  {
   "cell_type": "code",
   "execution_count": 46,
   "metadata": {},
   "outputs": [
    {
     "data": {
      "text/plain": [
       "((269, 45000), (89, 45000), (269,), (89,))"
      ]
     },
     "execution_count": 46,
     "metadata": {},
     "output_type": "execute_result"
    }
   ],
   "source": [
    "X_train1 = X_train_over.iloc[:,:45000]\n",
    "y_train1 = X_train_over.iloc[:,45000]\n",
    "X_test1 = X_test.iloc[:,:45000]\n",
    "y_test1 = X_test.iloc[:,45000]\n",
    "X_train1.shape, X_test1.shape, y_train1.shape, y_test1.shape"
   ]
  },
  {
   "cell_type": "code",
   "execution_count": 47,
   "metadata": {},
   "outputs": [
    {
     "data": {
      "text/plain": [
       "0    135\n",
       "1    134\n",
       "Name: label, dtype: int64"
      ]
     },
     "execution_count": 47,
     "metadata": {},
     "output_type": "execute_result"
    }
   ],
   "source": [
    "y_train1.value_counts()"
   ]
  },
  {
   "cell_type": "code",
   "execution_count": 48,
   "metadata": {},
   "outputs": [
    {
     "name": "stdout",
     "output_type": "stream",
     "text": [
      "{'n_neighbors': 3}\n"
     ]
    },
    {
     "data": {
      "text/plain": [
       "[0.8847583643122676, 0.5842696629213483]"
      ]
     },
     "execution_count": 48,
     "metadata": {},
     "output_type": "execute_result"
    }
   ],
   "source": [
    "model = KNeighborsClassifier()\n",
    "params = {\n",
    "    'n_neighbors' : [3, 5, 7] \n",
    "}\n",
    "gs = GridSearchCV(model, params, cv = None)\n",
    "gs.fit(X_train1, y_train1)\n",
    "print(gs.best_params_)\n",
    "knn = [gs.score(X_train1, y_train1), gs.score(X_test1, y_test1)]\n",
    "knn"
   ]
  },
  {
   "cell_type": "code",
   "execution_count": 90,
   "metadata": {},
   "outputs": [],
   "source": [
    "def classification_over(city):\n",
    "    \n",
    "    X = pinole.iloc[:,14:]\n",
    "    y = pinole.iloc[:,45014]\n",
    "    \n",
    "    X_train, X_test, y_train, y_test = train_test_split(X, \n",
    "                                                    y, \n",
    "                                                    test_size=0.33, \n",
    "                                                    random_state=42,\n",
    "                                                    stratify = y)\n",
    "    \n",
    "    print('before oversampling: ', \n",
    "          y_train.value_counts().index[0], \n",
    "          ':', \n",
    "          y_train.value_counts().index[1], \n",
    "          '=',\n",
    "          y_train.value_counts().values[0], \n",
    "          ':', \n",
    "          y_train.value_counts().values[1])\n",
    "    \n",
    "    # find all data of minority class\n",
    "    zero = X_train[X_train['label'] == 0].shape[0]\n",
    "    one = X_train[X_train['label'] == 1].shape[0]\n",
    "    zero, one\n",
    "    if zero < one:\n",
    "        minority = X_train[X_train['label'] == 0]\n",
    "        num = one - zero\n",
    "        duplicate = minority.sample(n=num, replace=True, random_state=42)\n",
    "    elif zero > one: \n",
    "        minority = X_train[X_train['label'] == 1]\n",
    "        num = zero - one\n",
    "        duplicate = minority.sample(n=num, replace=True, random_state=42)\n",
    "        \n",
    "    # create a oversamling X_train\n",
    "    X_train_over = pd.concat([X_train, duplicate])\n",
    "    \n",
    "    # X_train1, X_test1, y_train1, y_test1 for model\n",
    "    X_train1 = X_train_over.iloc[:,:45000]\n",
    "    y_train1 = X_train_over.iloc[:,45000]\n",
    "    X_test1 = X_test.iloc[:,:45000]\n",
    "    y_test1 = X_test.iloc[:,45000]\n",
    "    \n",
    "    print('after oversampling: ', \n",
    "          y_train1.value_counts().index[0], \n",
    "          ':', \n",
    "          y_train1.value_counts().index[1], \n",
    "          '=',\n",
    "          y_train1.value_counts().values[0], \n",
    "          ':', \n",
    "          y_train1.value_counts().values[1])\n",
    "    \n",
    "    \n",
    "    print('X_train:', X_train.shape, \n",
    "          'X_test:', X_test.shape, \n",
    "          'y_train:', y_train.shape, \n",
    "          'y_test:', y_test.shape)\n",
    "    \n",
    "    baseline = [round(max(y_train1.value_counts(normalize=True)),3), round(max(y_test1.value_counts(normalize=True)),3)]\n",
    "    \n",
    "    model_name = ['Logistic Regression', 'Decision tree', 'random Forest', 'KNN', 'SVM', 'Gradient Boosting', 'Baseline']\n",
    "    \n",
    "    model = [\n",
    "        LogisticRegression(random_state=42),\n",
    "        DecisionTreeClassifier(random_state=42),\n",
    "        RandomForestClassifier(random_state=42),\n",
    "        KNeighborsClassifier(),\n",
    "        svm.SVC(random_state=42),\n",
    "        GradientBoostingClassifier(random_state=42)        \n",
    "    ]\n",
    "    \n",
    "    params = [\n",
    "        {'penalty': ['l1', 'l2'], 'C': [.1, .5, 1, 5, 10]},\n",
    "        {},\n",
    "        {'n_estimators': [5, 10, 15]},\n",
    "        {'n_neighbors' : [3, 5, 7]},\n",
    "        {'C': [1, 5, 10], 'gamma': [0.001, 0.01]},\n",
    "        {'learning_rate': [.05, .1]}             \n",
    "    ]\n",
    "    \n",
    "    accuracy = []\n",
    "    \n",
    "    for _ in range(6):\n",
    "        print(model_name[_])\n",
    "        gs = GridSearchCV(model[_], params[_], cv = None)\n",
    "        gs.fit(X_train, y_train)\n",
    "        accuracy.append([round(gs.score(X_train1, y_train1),3), round(gs.score(X_test1, y_test1),3)])\n",
    "        \n",
    "    accuracy.append(baseline)\n",
    "    \n",
    "    df = pd.DataFrame(data = accuracy, index = model_name, columns = ['train', 'test'])\n",
    "    \n",
    "    return df\n",
    "    \n",
    "    \n",
    "\n",
    "\n"
   ]
  },
  {
   "cell_type": "code",
   "execution_count": 85,
   "metadata": {},
   "outputs": [
    {
     "data": {
      "text/plain": [
       "array([134,  45])"
      ]
     },
     "execution_count": 85,
     "metadata": {},
     "output_type": "execute_result"
    }
   ],
   "source": [
    "y_train.value_counts().values"
   ]
  },
  {
   "cell_type": "code",
   "execution_count": 86,
   "metadata": {},
   "outputs": [
    {
     "data": {
      "text/plain": [
       "1"
      ]
     },
     "execution_count": 86,
     "metadata": {},
     "output_type": "execute_result"
    }
   ],
   "source": [
    "y_train.value_counts().index[0]"
   ]
  },
  {
   "cell_type": "code",
   "execution_count": null,
   "metadata": {},
   "outputs": [
    {
     "name": "stdout",
     "output_type": "stream",
     "text": [
      "before oversampling:  1 : 0 = 134 : 45\n",
      "after oversampling:  1 : 0 = 134 : 134\n",
      "X_train: (179, 45001) X_test: (89, 45001) y_train: (179,) y_test: (89,)\n",
      "Logistic Regression\n"
     ]
    }
   ],
   "source": [
    "classification_over(pinole)"
   ]
  },
  {
   "cell_type": "code",
   "execution_count": 49,
   "metadata": {},
   "outputs": [],
   "source": [
    "def classification_over(X_train, X_test, y_train, y_test):\n",
    "    \n",
    "    \n",
    "    print('X_train:', X_train.shape, \n",
    "          'X_test:', X_test.shape, \n",
    "          'y_train:', y_train.shape, \n",
    "          'y_test:', y_test.shape)\n",
    "    \n",
    "    baseline = [round(max(y_train.value_counts(normalize=True)),3), round(max(y_test.value_counts(normalize=True)),3)]\n",
    "    \n",
    "    model_name = ['Logistic Regression', 'Decision tree', 'random Forest', 'KNN', 'SVM', 'Gradient Boosting', 'Baseline']\n",
    "    \n",
    "    model = [\n",
    "        LogisticRegression(random_state=42),\n",
    "        DecisionTreeClassifier(random_state=42),\n",
    "        RandomForestClassifier(random_state=42),\n",
    "        KNeighborsClassifier(),\n",
    "        svm.SVC(random_state=42),\n",
    "        GradientBoostingClassifier(random_state=42)        \n",
    "    ]\n",
    "    \n",
    "    params = [\n",
    "        {'penalty': ['l1', 'l2'], 'C': [.1, .5, 1, 5, 10]},\n",
    "        {},\n",
    "        {'n_estimators': [5, 10, 15]},\n",
    "        {'n_neighbors' : [3, 5, 7]},\n",
    "        {'C': [1, 5, 10], 'gamma': [0.001, 0.01]},\n",
    "        {'learning_rate': [.05, .1]}             \n",
    "    ]\n",
    "    \n",
    "    accuracy = []\n",
    "    \n",
    "    for _ in range(6):\n",
    "        print(model_name[_])\n",
    "        gs = GridSearchCV(model[_], params[_], cv = None)\n",
    "        gs.fit(X_train, y_train)\n",
    "        accuracy.append([round(gs.score(X_train, y_train),3), round(gs.score(X_test, y_test),3)])\n",
    "        \n",
    "    accuracy.append(baseline)\n",
    "    \n",
    "    df = pd.DataFrame(data = accuracy, index = model_name, columns = ['train', 'test'])\n",
    "    \n",
    "    return df\n",
    "    "
   ]
  },
  {
   "cell_type": "code",
   "execution_count": 51,
   "metadata": {},
   "outputs": [
    {
     "name": "stdout",
     "output_type": "stream",
     "text": [
      "X_train: (269, 45000) X_test: (89, 45000) y_train: (269,) y_test: (89,)\n",
      "Logistic Regression\n",
      "Decision tree\n",
      "random Forest\n",
      "KNN\n",
      "SVM\n",
      "Gradient Boosting\n"
     ]
    }
   ],
   "source": [
    "pinole_over = classification_over(X_train1, X_test1, y_train1, y_test1)\n"
   ]
  },
  {
   "cell_type": "code",
   "execution_count": 52,
   "metadata": {},
   "outputs": [
    {
     "data": {
      "text/html": [
       "<div>\n",
       "<style scoped>\n",
       "    .dataframe tbody tr th:only-of-type {\n",
       "        vertical-align: middle;\n",
       "    }\n",
       "\n",
       "    .dataframe tbody tr th {\n",
       "        vertical-align: top;\n",
       "    }\n",
       "\n",
       "    .dataframe thead th {\n",
       "        text-align: right;\n",
       "    }\n",
       "</style>\n",
       "<table border=\"1\" class=\"dataframe\">\n",
       "  <thead>\n",
       "    <tr style=\"text-align: right;\">\n",
       "      <th></th>\n",
       "      <th>train</th>\n",
       "      <th>test</th>\n",
       "    </tr>\n",
       "  </thead>\n",
       "  <tbody>\n",
       "    <tr>\n",
       "      <th>Logistic Regression</th>\n",
       "      <td>1.000</td>\n",
       "      <td>0.742</td>\n",
       "    </tr>\n",
       "    <tr>\n",
       "      <th>Decision tree</th>\n",
       "      <td>1.000</td>\n",
       "      <td>0.719</td>\n",
       "    </tr>\n",
       "    <tr>\n",
       "      <th>random Forest</th>\n",
       "      <td>1.000</td>\n",
       "      <td>0.742</td>\n",
       "    </tr>\n",
       "    <tr>\n",
       "      <th>KNN</th>\n",
       "      <td>0.885</td>\n",
       "      <td>0.584</td>\n",
       "    </tr>\n",
       "    <tr>\n",
       "      <th>SVM</th>\n",
       "      <td>1.000</td>\n",
       "      <td>0.742</td>\n",
       "    </tr>\n",
       "    <tr>\n",
       "      <th>Gradient Boosting</th>\n",
       "      <td>1.000</td>\n",
       "      <td>0.730</td>\n",
       "    </tr>\n",
       "    <tr>\n",
       "      <th>Baseline</th>\n",
       "      <td>0.502</td>\n",
       "      <td>0.742</td>\n",
       "    </tr>\n",
       "  </tbody>\n",
       "</table>\n",
       "</div>"
      ],
      "text/plain": [
       "                     train   test\n",
       "Logistic Regression  1.000  0.742\n",
       "Decision tree        1.000  0.719\n",
       "random Forest        1.000  0.742\n",
       "KNN                  0.885  0.584\n",
       "SVM                  1.000  0.742\n",
       "Gradient Boosting    1.000  0.730\n",
       "Baseline             0.502  0.742"
      ]
     },
     "execution_count": 52,
     "metadata": {},
     "output_type": "execute_result"
    }
   ],
   "source": [
    "pinole_over"
   ]
  },
  {
   "cell_type": "code",
   "execution_count": null,
   "metadata": {},
   "outputs": [],
   "source": [
    "pinole_over = classification_over(pinole)\n",
    "pinole_over"
   ]
  }
 ],
 "metadata": {
  "kernelspec": {
   "display_name": "Python [conda env:dsi]",
   "language": "python",
   "name": "conda-env-dsi-py"
  },
  "language_info": {
   "codemirror_mode": {
    "name": "ipython",
    "version": 3
   },
   "file_extension": ".py",
   "mimetype": "text/x-python",
   "name": "python",
   "nbconvert_exporter": "python",
   "pygments_lexer": "ipython3",
   "version": "3.6.5"
  }
 },
 "nbformat": 4,
 "nbformat_minor": 2
}
